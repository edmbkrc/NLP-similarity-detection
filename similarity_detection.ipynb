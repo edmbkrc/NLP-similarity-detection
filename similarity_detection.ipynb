{
  "nbformat": 4,
  "nbformat_minor": 0,
  "metadata": {
    "colab": {
      "provenance": []
    },
    "kernelspec": {
      "name": "python3",
      "display_name": "Python 3"
    },
    "language_info": {
      "name": "python"
    }
  },
  "cells": [
    {
      "cell_type": "markdown",
      "source": [
        "SIMILARITY RATE DETECTION WITH JACCARD AND COSINE"
      ],
      "metadata": {
        "id": "yN-bS9UtkglT"
      }
    },
    {
      "cell_type": "code",
      "execution_count": 7,
      "metadata": {
        "id": "EFjlweWpJ7ac",
        "colab": {
          "base_uri": "https://localhost:8080/"
        },
        "outputId": "d1fef76c-4794-4899-f111-58059e9aba4e"
      },
      "outputs": [
        {
          "output_type": "stream",
          "name": "stderr",
          "text": [
            "[nltk_data] Downloading package stopwords to /root/nltk_data...\n",
            "[nltk_data]   Package stopwords is already up-to-date!\n"
          ]
        }
      ],
      "source": [
        "import nltk\n",
        "from nltk.corpus import stopwords\n",
        "from sklearn.feature_extraction.text import TfidfVectorizer\n",
        "nltk.download('stopwords')\n",
        "from sklearn.metrics.pairwise import cosine_similarity\n",
        "\n"
      ]
    },
    {
      "cell_type": "code",
      "source": [
        "def load_document(file_path):\n",
        "    with open(file_path, 'r', encoding='utf-8') as file:\n",
        "        document = file.read()\n",
        "    return document\n",
        "\n",
        "def calculate_jaccard_similarity(doc1, doc2):\n",
        "    words_doc1 = set(doc1.split())\n",
        "    words_doc2 = set(doc2.split())\n",
        "    intersection = words_doc1.intersection(words_doc2)\n",
        "    union = words_doc1.union(words_doc2)\n",
        "    similarity = len(intersection) / len(union)\n",
        "    return similarity\n",
        "\n",
        "def calculate_cosine_similarity(doc1, doc2):\n",
        "    stop_words = set(stopwords.words('english'))\n",
        "    vectorizer = TfidfVectorizer(stop_words=stop_words)\n",
        "    tfidf_matrix = vectorizer.fit_transform([doc1, doc2])\n",
        "    similarity = (tfidf_matrix * tfidf_matrix.T).A[0, 1]\n",
        "    return similarity\n",
        "\n",
        "# Step 1: Load the first document\n",
        "doc1 = load_document('document1.txt')\n",
        "\n",
        "# Step 2: Load the second document\n",
        "doc2 = load_document('document2.txt')\n",
        "\n",
        "# Step 3: Select the similarity algorithm\n",
        "similarity_algorithm = input(\"Enter the similarity algorithm (Jaccard or Cosine): \")\n",
        "\n",
        "# Step 4: Calculate the similarity and display the result\n",
        "if similarity_algorithm.lower() == 'jaccard':\n",
        "    similarity_score = calculate_jaccard_similarity(doc1, doc2)\n",
        "elif similarity_algorithm.lower() == 'cosine':\n",
        "    similarity_score = calculate_cosine_similarity(doc1, doc2)\n",
        "else:\n",
        "    print(\"Invalid similarity algorithm!\")\n",
        "\n",
        "print(\"Similarity score:\", similarity_score)"
      ],
      "metadata": {
        "colab": {
          "base_uri": "https://localhost:8080/"
        },
        "id": "O5TbVsH-KXrg",
        "outputId": "7f02d0eb-21c4-4b76-c196-741a26719e0b"
      },
      "execution_count": 8,
      "outputs": [
        {
          "output_type": "stream",
          "name": "stdout",
          "text": [
            "Enter the similarity algorithm (Jaccard or Cosine): jaccard\n",
            "Similarity score: 0.30177514792899407\n"
          ]
        }
      ]
    },
    {
      "cell_type": "code",
      "source": [
        "def load_document(file_path):\n",
        "    with open(file_path, 'r', encoding='utf-8') as file:\n",
        "        document = file.read()\n",
        "    return document\n",
        "\n",
        "def calculate_jaccard_similarity(doc1, doc2):\n",
        "    words_doc1 = set(doc1.split())\n",
        "    words_doc2 = set(doc2.split())\n",
        "    intersection = words_doc1.intersection(words_doc2)\n",
        "    union = words_doc1.union(words_doc2)\n",
        "    similarity = len(intersection) / len(union)\n",
        "    return similarity\n",
        "\n",
        "def calculate_cosine_similarity(doc1, doc2):\n",
        "    vectorizer = TfidfVectorizer(stop_words='english')\n",
        "    tfidf_matrix = vectorizer.fit_transform([doc1, doc2])\n",
        "    similarity_matrix = cosine_similarity(tfidf_matrix[0], tfidf_matrix[1])\n",
        "    similarity_score = similarity_matrix[0][0]\n",
        "    return similarity_score\n",
        "\n",
        "# Step 1: Load the first document\n",
        "doc1 = load_document('document1.txt')\n",
        "\n",
        "# Step 2: Load the second document\n",
        "doc2 = load_document('document2.txt')\n",
        "\n",
        "# Step 3: Select the similarity algorithm\n",
        "similarity_algorithm = input(\"Enter the similarity algorithm (Jaccard or Cosine): \")\n",
        "\n",
        "# Step 4: Calculate the similarity and display the result\n",
        "if similarity_algorithm.lower() == 'jaccard':\n",
        "    similarity_score = calculate_jaccard_similarity(doc1, doc2)\n",
        "elif similarity_algorithm.lower() == 'cosine':\n",
        "    similarity_score = calculate_cosine_similarity(doc1, doc2)\n",
        "else:\n",
        "    print(\"Invalid similarity algorithm!\")\n",
        "\n",
        "print(\"Similarity score:\", similarity_score)"
      ],
      "metadata": {
        "id": "brx8YliCK-lb",
        "colab": {
          "base_uri": "https://localhost:8080/"
        },
        "outputId": "3fd80e67-0b88-45a4-d7d8-b19f946560d1"
      },
      "execution_count": 10,
      "outputs": [
        {
          "output_type": "stream",
          "name": "stdout",
          "text": [
            "Enter the similarity algorithm (Jaccard or Cosine): cosine\n",
            "Similarity score: 0.6406191364251326\n"
          ]
        }
      ]
    },
    {
      "cell_type": "markdown",
      "source": [
        "As a result We noticed that Documents', are related Dental Implants, Jaccard similarity rate------>0.30   \n",
        "Cosine similarity rate------>0.64"
      ],
      "metadata": {
        "id": "gkFJ_Wi-i4_P"
      }
    }
  ]
}